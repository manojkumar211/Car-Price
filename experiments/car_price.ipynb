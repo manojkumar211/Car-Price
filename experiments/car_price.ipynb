{
 "cells": [
  {
   "cell_type": "markdown",
   "metadata": {},
   "source": [
    "# Car Price Prediction:-"
   ]
  },
  {
   "cell_type": "code",
   "execution_count": 2,
   "metadata": {},
   "outputs": [],
   "source": [
    "import numpy as np\n",
    "import pandas as pd\n",
    "import matplotlib.pyplot as plt\n",
    "import seaborn as sns"
   ]
  },
  {
   "cell_type": "markdown",
   "metadata": {},
   "source": [
    "# Load the Dataset:-"
   ]
  },
  {
   "cell_type": "code",
   "execution_count": 3,
   "metadata": {},
   "outputs": [],
   "source": [
    "df=pd.read_excel(\"C:/Projects/carprice/cars_data.xlsx\")"
   ]
  },
  {
   "cell_type": "code",
   "execution_count": 4,
   "metadata": {},
   "outputs": [
    {
     "data": {
      "text/html": [
       "<div>\n",
       "<style scoped>\n",
       "    .dataframe tbody tr th:only-of-type {\n",
       "        vertical-align: middle;\n",
       "    }\n",
       "\n",
       "    .dataframe tbody tr th {\n",
       "        vertical-align: top;\n",
       "    }\n",
       "\n",
       "    .dataframe thead th {\n",
       "        text-align: right;\n",
       "    }\n",
       "</style>\n",
       "<table border=\"1\" class=\"dataframe\">\n",
       "  <thead>\n",
       "    <tr style=\"text-align: right;\">\n",
       "      <th></th>\n",
       "      <th>Name</th>\n",
       "      <th>Price</th>\n",
       "      <th>Rating</th>\n",
       "      <th>city</th>\n",
       "      <th>Kilometers</th>\n",
       "      <th>Year_of_Purchase</th>\n",
       "      <th>Owner</th>\n",
       "      <th>Fuel_Type</th>\n",
       "      <th>Transmission</th>\n",
       "      <th>RTO</th>\n",
       "      <th>Insurance</th>\n",
       "      <th>Insurance_Type</th>\n",
       "    </tr>\n",
       "  </thead>\n",
       "  <tbody>\n",
       "    <tr>\n",
       "      <th>0</th>\n",
       "      <td>2010 Maruti Alto LXI</td>\n",
       "      <td>₹ 174,699</td>\n",
       "      <td>4out of 5</td>\n",
       "      <td>3686</td>\n",
       "      <td>Kilometers34,854 km</td>\n",
       "      <td>Year of PurchaseMay 2010</td>\n",
       "      <td>OwnerFirst Owner</td>\n",
       "      <td>FuelPetrol</td>\n",
       "      <td>TransmissionMANUAL</td>\n",
       "      <td>RTOAP09</td>\n",
       "      <td>NaN</td>\n",
       "      <td>Insurance TypeInsurance Expired</td>\n",
       "    </tr>\n",
       "    <tr>\n",
       "      <th>1</th>\n",
       "      <td>2013 Maruti Wagon R 1.0 VXI</td>\n",
       "      <td>₹ 333,999</td>\n",
       "      <td>4.2out of 5</td>\n",
       "      <td>3686</td>\n",
       "      <td>Kilometers39,541 km</td>\n",
       "      <td>Year of PurchaseJuly 2013</td>\n",
       "      <td>OwnerSecond Owner</td>\n",
       "      <td>FuelPetrol</td>\n",
       "      <td>TransmissionMANUAL</td>\n",
       "      <td>RTOAP28</td>\n",
       "      <td>Insurance6/8/2021</td>\n",
       "      <td>Insurance TypeComp</td>\n",
       "    </tr>\n",
       "    <tr>\n",
       "      <th>2</th>\n",
       "      <td>2014 Maruti Wagon R 1.0 VXI</td>\n",
       "      <td>₹ 353,199</td>\n",
       "      <td>4.3out of 5</td>\n",
       "      <td>3686</td>\n",
       "      <td>Kilometers23,233 km</td>\n",
       "      <td>Year of PurchaseMarch 2014</td>\n",
       "      <td>OwnerSecond Owner</td>\n",
       "      <td>FuelPetrol</td>\n",
       "      <td>TransmissionMANUAL</td>\n",
       "      <td>RTOAP28</td>\n",
       "      <td>Insurance28/4/2021</td>\n",
       "      <td>Insurance TypeComp</td>\n",
       "    </tr>\n",
       "    <tr>\n",
       "      <th>3</th>\n",
       "      <td>2013 Hyundai Eon D LITE PLUS</td>\n",
       "      <td>₹ 237,899</td>\n",
       "      <td>4.4out of 5</td>\n",
       "      <td>3686</td>\n",
       "      <td>Kilometers27,748 km</td>\n",
       "      <td>Year of PurchaseNovember 2013</td>\n",
       "      <td>OwnerFirst Owner</td>\n",
       "      <td>FuelPetrol</td>\n",
       "      <td>TransmissionMANUAL</td>\n",
       "      <td>RTOAP13</td>\n",
       "      <td>Insurance1/1/2022</td>\n",
       "      <td>Insurance TypeComp</td>\n",
       "    </tr>\n",
       "    <tr>\n",
       "      <th>4</th>\n",
       "      <td>2017 Hyundai Eon ERA PLUS</td>\n",
       "      <td>₹ 300,699</td>\n",
       "      <td>4.4out of 5</td>\n",
       "      <td>3686</td>\n",
       "      <td>Kilometers12,238 km</td>\n",
       "      <td>Year of PurchaseAugust 2017</td>\n",
       "      <td>OwnerSecond Owner</td>\n",
       "      <td>FuelPetrol</td>\n",
       "      <td>TransmissionMANUAL</td>\n",
       "      <td>RTOTS10</td>\n",
       "      <td>NaN</td>\n",
       "      <td>Insurance TypeExpired</td>\n",
       "    </tr>\n",
       "  </tbody>\n",
       "</table>\n",
       "</div>"
      ],
      "text/plain": [
       "                           Name      Price       Rating  city  \\\n",
       "0          2010 Maruti Alto LXI  ₹ 174,699    4out of 5  3686   \n",
       "1   2013 Maruti Wagon R 1.0 VXI  ₹ 333,999  4.2out of 5  3686   \n",
       "2   2014 Maruti Wagon R 1.0 VXI  ₹ 353,199  4.3out of 5  3686   \n",
       "3  2013 Hyundai Eon D LITE PLUS  ₹ 237,899  4.4out of 5  3686   \n",
       "4     2017 Hyundai Eon ERA PLUS  ₹ 300,699  4.4out of 5  3686   \n",
       "\n",
       "            Kilometers               Year_of_Purchase              Owner  \\\n",
       "0  Kilometers34,854 km       Year of PurchaseMay 2010   OwnerFirst Owner   \n",
       "1  Kilometers39,541 km      Year of PurchaseJuly 2013  OwnerSecond Owner   \n",
       "2  Kilometers23,233 km     Year of PurchaseMarch 2014  OwnerSecond Owner   \n",
       "3  Kilometers27,748 km  Year of PurchaseNovember 2013   OwnerFirst Owner   \n",
       "4  Kilometers12,238 km    Year of PurchaseAugust 2017  OwnerSecond Owner   \n",
       "\n",
       "    Fuel_Type        Transmission      RTO           Insurance  \\\n",
       "0  FuelPetrol  TransmissionMANUAL  RTOAP09                 NaN   \n",
       "1  FuelPetrol  TransmissionMANUAL  RTOAP28   Insurance6/8/2021   \n",
       "2  FuelPetrol  TransmissionMANUAL  RTOAP28  Insurance28/4/2021   \n",
       "3  FuelPetrol  TransmissionMANUAL  RTOAP13   Insurance1/1/2022   \n",
       "4  FuelPetrol  TransmissionMANUAL  RTOTS10                 NaN   \n",
       "\n",
       "                    Insurance_Type  \n",
       "0  Insurance TypeInsurance Expired  \n",
       "1               Insurance TypeComp  \n",
       "2               Insurance TypeComp  \n",
       "3               Insurance TypeComp  \n",
       "4            Insurance TypeExpired  "
      ]
     },
     "execution_count": 4,
     "metadata": {},
     "output_type": "execute_result"
    }
   ],
   "source": [
    "df.head()"
   ]
  },
  {
   "cell_type": "code",
   "execution_count": 5,
   "metadata": {},
   "outputs": [
    {
     "data": {
      "text/plain": [
       "(32158, 12)"
      ]
     },
     "execution_count": 5,
     "metadata": {},
     "output_type": "execute_result"
    }
   ],
   "source": [
    "df.shape"
   ]
  },
  {
   "cell_type": "code",
   "execution_count": null,
   "metadata": {},
   "outputs": [],
   "source": []
  }
 ],
 "metadata": {
  "kernelspec": {
   "display_name": "Python 3",
   "language": "python",
   "name": "python3"
  },
  "language_info": {
   "codemirror_mode": {
    "name": "ipython",
    "version": 3
   },
   "file_extension": ".py",
   "mimetype": "text/x-python",
   "name": "python",
   "nbconvert_exporter": "python",
   "pygments_lexer": "ipython3",
   "version": "3.10.16"
  }
 },
 "nbformat": 4,
 "nbformat_minor": 2
}
